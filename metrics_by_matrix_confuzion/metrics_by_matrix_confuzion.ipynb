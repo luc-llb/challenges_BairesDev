{
  "nbformat": 4,
  "nbformat_minor": 0,
  "metadata": {
    "colab": {
      "provenance": []
    },
    "kernelspec": {
      "name": "python3",
      "display_name": "Python 3"
    },
    "language_info": {
      "name": "python"
    }
  },
  "cells": [
    {
      "cell_type": "markdown",
      "source": [
        "## Gerando a Matriz de Confusão"
      ],
      "metadata": {
        "id": "NgLh1T0muIA2"
      }
    },
    {
      "cell_type": "markdown",
      "source": [
        "Utilizei o TensorFlow para treinar uma rede simples de classificação para que possa gerar a matriz de confusão."
      ],
      "metadata": {
        "id": "Guo0VuZmscTD"
      }
    },
    {
      "cell_type": "code",
      "execution_count": 1,
      "metadata": {
        "id": "TNKKHQZ7qZ5d"
      },
      "outputs": [],
      "source": [
        "import tensorflow as tf\n",
        "from sklearn.metrics import confusion_matrix, ConfusionMatrixDisplay\n",
        "import matplotlib.pyplot as plt"
      ]
    },
    {
      "cell_type": "code",
      "source": [
        "# Utilizando os dados do MNIST\n",
        "(x_train, y_train), (x_test, y_test) = tf.keras.datasets.mnist.load_data()\n",
        "\n",
        "x_train = x_train.astype('float32') / 255.0\n",
        "x_test = x_test.astype('float32') / 255.0\n",
        "y_train = tf.keras.utils.to_categorical(y_train, num_classes=10)\n",
        "y_test = tf.keras.utils.to_categorical(y_test, num_classes=10)\n",
        "\n",
        "# Criando um modelo simples\n",
        "model = tf.keras.models.Sequential([\n",
        "  tf.keras.layers.Flatten(input_shape=(28, 28)),\n",
        "  tf.keras.layers.Dense(128, activation='relu'),\n",
        "  tf.keras.layers.Dense(10, activation='softmax')\n",
        "])\n",
        "\n",
        "model.compile(optimizer='adam',\n",
        "              loss='categorical_crossentropy',\n",
        "              metrics=['accuracy', 'recall'])\n",
        "\n",
        "model.fit(x_train, y_train, epochs=10) # Treinando o modelo"
      ],
      "metadata": {
        "colab": {
          "base_uri": "https://localhost:8080/"
        },
        "id": "6soxzg2jrrXv",
        "outputId": "9d79177b-781d-4bf8-fd0d-22af1552843c"
      },
      "execution_count": 2,
      "outputs": [
        {
          "output_type": "stream",
          "name": "stderr",
          "text": [
            "/usr/local/lib/python3.10/dist-packages/keras/src/layers/reshaping/flatten.py:37: UserWarning: Do not pass an `input_shape`/`input_dim` argument to a layer. When using Sequential models, prefer using an `Input(shape)` object as the first layer in the model instead.\n",
            "  super().__init__(**kwargs)\n"
          ]
        },
        {
          "output_type": "stream",
          "name": "stdout",
          "text": [
            "Epoch 1/10\n",
            "\u001b[1m1875/1875\u001b[0m \u001b[32m━━━━━━━━━━━━━━━━━━━━\u001b[0m\u001b[37m\u001b[0m \u001b[1m19s\u001b[0m 8ms/step - accuracy: 0.8766 - loss: 0.4318 - recall: 0.8041\n",
            "Epoch 2/10\n",
            "\u001b[1m1875/1875\u001b[0m \u001b[32m━━━━━━━━━━━━━━━━━━━━\u001b[0m\u001b[37m\u001b[0m \u001b[1m14s\u001b[0m 5ms/step - accuracy: 0.9653 - loss: 0.1181 - recall: 0.9595\n",
            "Epoch 3/10\n",
            "\u001b[1m1875/1875\u001b[0m \u001b[32m━━━━━━━━━━━━━━━━━━━━\u001b[0m\u001b[37m\u001b[0m \u001b[1m8s\u001b[0m 3ms/step - accuracy: 0.9770 - loss: 0.0773 - recall: 0.9734\n",
            "Epoch 4/10\n",
            "\u001b[1m1875/1875\u001b[0m \u001b[32m━━━━━━━━━━━━━━━━━━━━\u001b[0m\u001b[37m\u001b[0m \u001b[1m8s\u001b[0m 4ms/step - accuracy: 0.9829 - loss: 0.0547 - recall: 0.9808\n",
            "Epoch 5/10\n",
            "\u001b[1m1875/1875\u001b[0m \u001b[32m━━━━━━━━━━━━━━━━━━━━\u001b[0m\u001b[37m\u001b[0m \u001b[1m10s\u001b[0m 4ms/step - accuracy: 0.9872 - loss: 0.0432 - recall: 0.9855\n",
            "Epoch 6/10\n",
            "\u001b[1m1875/1875\u001b[0m \u001b[32m━━━━━━━━━━━━━━━━━━━━\u001b[0m\u001b[37m\u001b[0m \u001b[1m8s\u001b[0m 3ms/step - accuracy: 0.9898 - loss: 0.0344 - recall: 0.9887\n",
            "Epoch 7/10\n",
            "\u001b[1m1875/1875\u001b[0m \u001b[32m━━━━━━━━━━━━━━━━━━━━\u001b[0m\u001b[37m\u001b[0m \u001b[1m10s\u001b[0m 3ms/step - accuracy: 0.9917 - loss: 0.0274 - recall: 0.9908\n",
            "Epoch 8/10\n",
            "\u001b[1m1875/1875\u001b[0m \u001b[32m━━━━━━━━━━━━━━━━━━━━\u001b[0m\u001b[37m\u001b[0m \u001b[1m9s\u001b[0m 5ms/step - accuracy: 0.9939 - loss: 0.0196 - recall: 0.9934\n",
            "Epoch 9/10\n",
            "\u001b[1m1875/1875\u001b[0m \u001b[32m━━━━━━━━━━━━━━━━━━━━\u001b[0m\u001b[37m\u001b[0m \u001b[1m7s\u001b[0m 3ms/step - accuracy: 0.9954 - loss: 0.0158 - recall: 0.9949\n",
            "Epoch 10/10\n",
            "\u001b[1m1875/1875\u001b[0m \u001b[32m━━━━━━━━━━━━━━━━━━━━\u001b[0m\u001b[37m\u001b[0m \u001b[1m10s\u001b[0m 5ms/step - accuracy: 0.9960 - loss: 0.0132 - recall: 0.9957\n"
          ]
        },
        {
          "output_type": "execute_result",
          "data": {
            "text/plain": [
              "<keras.src.callbacks.history.History at 0x7d44dec214b0>"
            ]
          },
          "metadata": {},
          "execution_count": 2
        }
      ]
    },
    {
      "cell_type": "code",
      "source": [
        "y_pred = model.predict(x_test) # Obtendo as respostas para os dados de teste\n",
        "\n",
        "# Convertendo as previsões e os rótulos verdadeiros de volta para classes\n",
        "y_pred_classes = tf.argmax(y_pred, axis=1)\n",
        "y_true_classes = tf.argmax(y_test, axis=1)\n",
        "\n",
        "cm = confusion_matrix(y_true_classes, y_pred_classes) # Obtendo a matriz de confusão\n",
        "\n",
        "# Visualização da matriz de confusão\n",
        "disp = ConfusionMatrixDisplay(confusion_matrix=cm)\n",
        "disp.plot()\n",
        "plt.show()"
      ],
      "metadata": {
        "colab": {
          "base_uri": "https://localhost:8080/",
          "height": 466
        },
        "id": "xk9X1c4Dr2yR",
        "outputId": "e5133def-cf91-46ab-b5cb-15795a483440"
      },
      "execution_count": 3,
      "outputs": [
        {
          "output_type": "stream",
          "name": "stdout",
          "text": [
            "\u001b[1m313/313\u001b[0m \u001b[32m━━━━━━━━━━━━━━━━━━━━\u001b[0m\u001b[37m\u001b[0m \u001b[1m1s\u001b[0m 2ms/step\n"
          ]
        },
        {
          "output_type": "display_data",
          "data": {
            "text/plain": [
              "<Figure size 640x480 with 2 Axes>"
            ],
            "image/png": "[encoded data removed]"
          },
          "metadata": {}
        }
      ]
    },
    {
      "cell_type": "markdown",
      "source": [
        "## Obtendo as métricas"
      ],
      "metadata": {
        "id": "RsNbbXIet_8A"
      }
    },
    {
      "cell_type": "code",
      "source": [
        "import numpy as np\n",
        "\n",
        "def get_metrics_by_cm(cm):\n",
        "  '''\n",
        "    Função que recebe uma matriz de confusão e retorna as métricas de acurácia, precisão, recall, especificidade e F1 Score.\n",
        "    A função calcula as métricas baseados nas seguintes equações:\n",
        "      - Acurácia: (TP + TN) / (TP + TN + FP + FN)\n",
        "      - Precisão: TP / (TP + FP)\n",
        "      - Recall: TP / (TP + FN)\n",
        "      - Especificidade: TN / (TN + FP)\n",
        "      - F1 Score: (2 * Precision * Recall) / (Precision + Recall)\n",
        "\n",
        "    Parâmetros:\n",
        "      - cm: Matriz de confusão\n",
        "\n",
        "    Retorno:\n",
        "      - accuracy: Acurácia\n",
        "      - precision: Precisão\n",
        "      - recall: Recall\n",
        "      - specificity: Especificidade\n",
        "      - f1_score: F1 Score\n",
        "  '''\n",
        "  total_tp = total_fp = total_fn = total_tn = np.array([])\n",
        "\n",
        "  # Percorre a matriz calculando os parâmetros para cada classe e os adiciona aos vetores auxiliares\n",
        "  for i in range(len(cm)):\n",
        "      tp = cm[i][i]  # Verdadeiros positivos\n",
        "      fp = sum(cm[i]) - tp  # Falsos positivos\n",
        "      fn = sum(cm[:, i]) - tp  # Falsos negativos\n",
        "      tn = cm.sum() - (tp + fp + fn)  # Verdadeiros negativos\n",
        "\n",
        "      total_tp = np.append(total_tp, tp)\n",
        "      total_fp = np.append(total_fp, fp)\n",
        "      total_fn = np.append(total_fn, fn)\n",
        "      total_tn = np.append(total_tn, tn)\n",
        "\n",
        "  # Cálculo das métricas baseado na média entre as classes\n",
        "  total_tp = np.mean(total_tp)\n",
        "  total_fp = np.mean(total_fp)\n",
        "  total_fn = np.mean(total_fn)\n",
        "  total_tn = np.mean(total_tn)\n",
        "  total = total_tp + total_fp + total_fn + total_tn\n",
        "\n",
        "  accuracy = (total_tp + total_tn) / total if total > 0 else 0\n",
        "  precision = total_tp / (total_tp + total_fp) if (total_tp + total_fp) > 0 else 0\n",
        "  recall = total_tp / (total_tp + total_fn) if (total_tp + total_fn) > 0 else 0\n",
        "  specificity = total_tn / (total_tn + total_fp) if (total_tn + total_fp) > 0 else 0\n",
        "  f1_score = (2 * precision * recall) / (precision + recall) if (precision + recall) > 0 else 0\n",
        "\n",
        "  return accuracy, precision, recall, specificity, f1_score\n"
      ],
      "metadata": {
        "id": "IQ2hLAHRt_js"
      },
      "execution_count": 4,
      "outputs": []
    },
    {
      "cell_type": "code",
      "source": [
        "acc, prec, rec, spec, f1 = get_metrics_by_cm(cm)\n",
        "print(\"Acurácia: \", acc)\n",
        "print(\"Precisão: \", prec)\n",
        "print(\"Recall: \", rec)\n",
        "print(\"Especificidade: \", spec)\n",
        "print(\"F1 Score: \", f1)"
      ],
      "metadata": {
        "colab": {
          "base_uri": "https://localhost:8080/"
        },
        "id": "OdtByZVbyXvP",
        "outputId": "645f76b3-6433-4396-d68d-85840750b884"
      },
      "execution_count": 5,
      "outputs": [
        {
          "output_type": "stream",
          "name": "stdout",
          "text": [
            "Acurácia:  0.9954\n",
            "Precisão:  0.977\n",
            "Recall:  0.977\n",
            "Especificidade:  0.9974444444444445\n",
            "F1 Score:  0.977\n"
          ]
        }
      ]
    },
    {
      "cell_type": "markdown",
      "source": [
        "Comparação entre as métricas medidas utilizando a função get_metrics_by_cm() com os valores obtidos utilizando os métodos da biblioteca scikit-learn:"
      ],
      "metadata": {
        "id": "8J88hYxm3Uhq"
      }
    },
    {
      "cell_type": "code",
      "source": [
        "from sklearn.metrics import accuracy_score, precision_score, recall_score, f1_score\n",
        "from imblearn.metrics import specificity_score\n",
        "\n",
        "acc_sk = accuracy_score(y_true_classes, y_pred_classes)\n",
        "prec_sk = precision_score(y_true_classes, y_pred_classes, average='macro')\n",
        "rec_sk = recall_score(y_true_classes, y_pred_classes, average='macro')\n",
        "spec_sk = specificity_score(y_true_classes, y_pred_classes, average='macro')\n",
        "f1_sk = f1_score(y_true_classes, y_pred_classes, average='macro')\n",
        "\n",
        "line = \"-\" * 60\n",
        "print(\"Acurácia:\\n Manual: \", acc, \"\\t Sklearn: \", acc_sk, \"\\n\", line)\n",
        "print(\"Precisão:\\n Manual: \", prec, \"\\t Sklearn: \", prec_sk, \"\\n\", line)\n",
        "print(\"Recall:\\n Manual: \", rec, \"\\t Sklearn: \", rec_sk, \"\\n\", line)\n",
        "print(\"Especificidade:\\n Manual: \", spec, \"\\t Imblearn: \", spec_sk, \"\\n\", line)\n",
        "print(\"F1 Score:\\n Manual: \", f1, \"\\t Sklearn: \", f1_sk, \"\\n\", line)"
      ],
      "metadata": {
        "colab": {
          "base_uri": "https://localhost:8080/"
        },
        "id": "J1xIDbUh3xs5",
        "outputId": "37116e7c-44b2-4626-ad48-1bb35d0780d9"
      },
      "execution_count": 6,
      "outputs": [
        {
          "output_type": "stream",
          "name": "stdout",
          "text": [
            "Acurácia:\n",
            " Manual:  0.9954 \t Sklearn:  0.977 \n",
            " ------------------------------------------------------------\n",
            "Precisão:\n",
            " Manual:  0.977 \t Sklearn:  0.9770994523880792 \n",
            " ------------------------------------------------------------\n",
            "Recall:\n",
            " Manual:  0.977 \t Sklearn:  0.9767902003442055 \n",
            " ------------------------------------------------------------\n",
            "Especificidade:\n",
            " Manual:  0.9974444444444445 \t Imblearn:  0.9974430527648025 \n",
            " ------------------------------------------------------------\n",
            "F1 Score:\n",
            " Manual:  0.977 \t Sklearn:  0.9769158183519904 \n",
            " ------------------------------------------------------------\n"
          ]
        }
      ]
    }
  ]
}