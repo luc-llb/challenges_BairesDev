{
  "nbformat": 4,
  "nbformat_minor": 0,
  "metadata": {
    "colab": {
      "provenance": [],
      "private_outputs": true
    },
    "kernelspec": {
      "name": "python3",
      "display_name": "Python 3"
    },
    "accelerator": "GPU"
  },
  "cells": [
    {
      "cell_type": "markdown",
      "source": [
        "Conecetando com o Google Drive:"
      ],
      "metadata": {
        "id": "HcwCWyk1fvbp"
      }
    },
    {
      "cell_type": "code",
      "metadata": {
        "id": "LJZRcEw0LoBd"
      },
      "source": [
        "from google.colab import drive\n",
        "drive.mount('/content/gdrive')"
      ],
      "execution_count": null,
      "outputs": []
    },
    {
      "cell_type": "code",
      "metadata": {
        "id": "DrdyBxyZvLpM"
      },
      "source": [
        "# List the content of your local computer folder\n",
        "!ls -la \"/content/gdrive/My Drive/darknet\""
      ],
      "execution_count": null,
      "outputs": []
    },
    {
      "cell_type": "code",
      "metadata": {
        "id": "sGNcZ9EtOK7k"
      },
      "source": [
        "!sudo apt-get install tree"
      ],
      "execution_count": null,
      "outputs": []
    },
    {
      "cell_type": "code",
      "metadata": {
        "id": "ZGsRuXM-OQBb"
      },
      "source": [
        "!tree /content/gdrive/My\\ Drive/darknet/"
      ],
      "execution_count": null,
      "outputs": []
    },
    {
      "cell_type": "markdown",
      "source": [
        "## Instalando as dependencias:"
      ],
      "metadata": {
        "id": "d02W_-c5f8yR"
      }
    },
    {
      "cell_type": "markdown",
      "metadata": {
        "id": "db68v7TmMTmR"
      },
      "source": [
        "Checando a versão do CUDA"
      ]
    },
    {
      "cell_type": "code",
      "metadata": {
        "id": "ew5eGbl9MdKL"
      },
      "source": [
        "# This cell can be commented once you checked the current CUDA version\n",
        "# CUDA: Let's check that Nvidia CUDA is already pre-installed and which version is it. In some time from now maybe you\n",
        "!/usr/local/cuda/bin/nvcc --version\n",
        "!cat /etc/os-release\n"
      ],
      "execution_count": null,
      "outputs": []
    },
    {
      "cell_type": "markdown",
      "metadata": {
        "id": "v3nkYzWwMuBk"
      },
      "source": [
        "Instalando o cuDNN de versão compativel com a versão do CUDA (você deve baixar a versão correta e salva-la no drive), instale a versão correta [aqui](https://developer.nvidia.com/rdp/cudnn-archive)."
      ]
    },
    {
      "cell_type": "code",
      "metadata": {
        "id": "r_A8LDvyM7x5"
      },
      "source": [
        "# Não esqueça de substituir o arquivo pelo nome correto que você o salvou no drive\n",
        "!tar -xJvf gdrive/My\\ Drive/darknet/cuDNN/cudnn-linux-x86_64-8.9.7.29_cuda12-archive.tar.xz -C /usr/local/\n",
        "# !ls /usr/local/"
      ],
      "execution_count": null,
      "outputs": []
    },
    {
      "cell_type": "markdown",
      "source": [
        "Copiando o conteudo para o local correto:"
      ],
      "metadata": {
        "id": "yVCvGKivqJE0"
      }
    },
    {
      "cell_type": "code",
      "source": [
        "!cp /usr/local/cudnn-linux-x86_64-8.9.7.29_cuda12-archive/include/* /usr/local/cuda/include/\n",
        "!cp /usr/local/cudnn-linux-x86_64-8.9.7.29_cuda12-archive/lib/* /usr/local/cuda/lib64/\n",
        "# !ls /usr/local/cuda/include | grep cudnn"
      ],
      "metadata": {
        "id": "h8Bey1KRpQOY"
      },
      "execution_count": null,
      "outputs": []
    },
    {
      "cell_type": "markdown",
      "metadata": {
        "id": "9x9BFQOfNowN"
      },
      "source": [
        "## Instalando a rede YOLOv3"
      ]
    },
    {
      "cell_type": "markdown",
      "metadata": {
        "id": "UXi9S5XAIP3A"
      },
      "source": [
        "Clonando o repositório com da darknet e salvando no drive [comente após a primeira execução].\n",
        "\n",
        "Antes de executar essa célula tenha certeza que a pasta /darknet/bin foi criada no Drive."
      ]
    },
    {
      "cell_type": "code",
      "metadata": {
        "id": "Pt0Y06QTNyZG"
      },
      "source": [
        "# Comment this code on the future runs.\n",
        "!git clone https://github.com/kriyeng/darknet/\n",
        "%cd /content/darknet\n",
        "\n",
        "# Check the folder\n",
        "!ls\n",
        "\n",
        "#Compile Darknet\n",
        "!make\n",
        "\n",
        "#Copies the Darknet compiled version to Google drive\n",
        "!cp ./darknet /content/gdrive/My\\ Drive/darknet/bin/darknet"
      ],
      "execution_count": null,
      "outputs": []
    },
    {
      "cell_type": "markdown",
      "metadata": {
        "id": "CD378FjcrurC"
      },
      "source": [
        "Função para mostrar imagens no notebook:"
      ]
    },
    {
      "cell_type": "code",
      "metadata": {
        "id": "WD5FBWmjrsks"
      },
      "source": [
        "def imShow(path):\n",
        "  import cv2\n",
        "  import matplotlib.pyplot as plt\n",
        "  %matplotlib inline\n",
        "\n",
        "  image = cv2.imread(path)\n",
        "  height, width = image.shape[:2]\n",
        "  resized_image = cv2.resize(image,(3*width, 3*height), interpolation = cv2.INTER_CUBIC)\n",
        "\n",
        "  fig = plt.gcf()\n",
        "  fig.set_size_inches(18, 10)\n",
        "  plt.axis(\"off\")\n",
        "  #plt.rcParams['figure.figsize'] = [10, 5]\n",
        "  plt.imshow(cv2.cvtColor(resized_image, cv2.COLOR_BGR2RGB))\n",
        "  plt.show()"
      ],
      "execution_count": null,
      "outputs": []
    },
    {
      "cell_type": "markdown",
      "metadata": {
        "id": "JvySKrnh2cvG"
      },
      "source": [
        "## Testando a rede com um exemplo"
      ]
    },
    {
      "cell_type": "markdown",
      "source": [
        "Obtendo os pesos pré treinados da rede YOLOv3:"
      ],
      "metadata": {
        "id": "VkSOWIc82CKG"
      }
    },
    {
      "cell_type": "code",
      "metadata": {
        "id": "eCou8imNOTTN"
      },
      "source": [
        "!wget https://pjreddie.com/media/files/yolov3.weights"
      ],
      "execution_count": null,
      "outputs": []
    },
    {
      "cell_type": "code",
      "metadata": {
        "id": "op1iEE3bOVR6"
      },
      "source": [
        "# Execute darknet using YOLOv3 model with pre-trained weights to detect objects on 'person.jpg'\n",
        "!./darknet detect cfg/yolov3.cfg yolov3.weights data/person.jpg -dont-show\n",
        "\n",
        "# Show the result using the helper imgShow()\n",
        "imShow('predictions.jpg')"
      ],
      "execution_count": null,
      "outputs": []
    },
    {
      "cell_type": "markdown",
      "metadata": {
        "id": "j0t221djS1Gk"
      },
      "source": [
        "## Obtendo o dataset da COCO"
      ]
    },
    {
      "cell_type": "markdown",
      "source": [
        "Criando o diretorio para o dataset:"
      ],
      "metadata": {
        "id": "DNXxifo_Nvrg"
      }
    },
    {
      "cell_type": "code",
      "source": [
        "!mkdir /content/dataset/\n",
        "%cd /content/dataset/"
      ],
      "metadata": {
        "id": "kHt7pI6CNu3y"
      },
      "execution_count": null,
      "outputs": []
    },
    {
      "cell_type": "markdown",
      "source": [
        "Realizando o download do dataset:"
      ],
      "metadata": {
        "id": "-nt5st0yAR1s"
      }
    },
    {
      "cell_type": "code",
      "source": [
        "!wget http://images.cocodataset.org/zips/train2017.zip\n",
        "!wget http://images.cocodataset.org/zips/val2017.zip\n",
        "!wget http://images.cocodataset.org/annotations/annotations_trainval2017.zip"
      ],
      "metadata": {
        "id": "zXFVza62AJ4E"
      },
      "execution_count": null,
      "outputs": []
    },
    {
      "cell_type": "markdown",
      "source": [
        "Descompactando os dados:"
      ],
      "metadata": {
        "id": "ttChkEg9Adgn"
      }
    },
    {
      "cell_type": "code",
      "source": [
        "!unzip train2017.zip\n",
        "!unzip val2017.zip\n",
        "!unzip annotations_trainval2017.zip"
      ],
      "metadata": {
        "id": "8mN1sZUeAP95"
      },
      "execution_count": null,
      "outputs": []
    },
    {
      "cell_type": "code",
      "source": [
        "# Lendo as classes\n",
        "with open('/content/darknet/data/coco.names', 'r') as f:\n",
        "    classes = [line.strip() for line in f.readlines()]\n",
        "\n",
        "print(\"Classes do COCO:\")\n",
        "for i, class_name in enumerate(classes):\n",
        "    print(f\"{i}: {class_name}\")"
      ],
      "metadata": {
        "id": "osbOHlDBo_qN"
      },
      "execution_count": null,
      "outputs": []
    },
    {
      "cell_type": "markdown",
      "source": [
        "Criando o arquivo de configurações do dataset:"
      ],
      "metadata": {
        "id": "A8y0x9DbA8HG"
      }
    },
    {
      "cell_type": "code",
      "source": [
        "%cd /content/darknet\n",
        "!echo \"classes= 80\" > data/coco.data\n",
        "!echo \"train= data/train.txt\" >> data/coco.data\n",
        "!echo \"valid= data/val.txt\" >> data/coco.data\n",
        "!echo \"names= data/coco.names\" >> data/coco.data\n",
        "!echo \"backup= backup/\" >> data/coco.data"
      ],
      "metadata": {
        "id": "PCmc9N1jBEou"
      },
      "execution_count": null,
      "outputs": []
    },
    {
      "cell_type": "markdown",
      "metadata": {
        "id": "6_4747QHIGZ7"
      },
      "source": [
        "## Treinando o modelo"
      ]
    },
    {
      "cell_type": "markdown",
      "source": [
        "Alterando as configurações da rede para realizar o treinamento:"
      ],
      "metadata": {
        "id": "4AfsxXepGIXT"
      }
    },
    {
      "cell_type": "code",
      "source": [
        "%cd /content/darknet/cfg\n",
        "!sed -i 's/batch=1/batch=64/' yolov3.cfg\n",
        "!sed -i 's/subdivisions=1/subdivisions=16/' yolov3.cfg\n",
        "\n",
        "!grep \"batch=\" yolov3.cfg\n",
        "!grep \"subdivisions=\" yolov3.cfg"
      ],
      "metadata": {
        "id": "xDLyQISqF8Dm"
      },
      "execution_count": null,
      "outputs": []
    },
    {
      "cell_type": "markdown",
      "source": [
        "Criando o arquivo train.txt:"
      ],
      "metadata": {
        "id": "oLoUkzFkUzqc"
      }
    },
    {
      "cell_type": "code",
      "source": [
        "import os\n",
        "\n",
        "train_images_path = \"/content/dataset/train2017\"\n",
        "train_txt_path = \"/content/darknet/data/train.txt\"\n",
        "\n",
        "# Obter todos os arquivos de imagem no diretório\n",
        "with open(train_txt_path, \"w\") as f:\n",
        "    for image_file in os.listdir(train_images_path):\n",
        "        if image_file.endswith(\".jpg\"):  # Verificar se é um arquivo de imagem\n",
        "            f.write(f\"{train_images_path}/{image_file}\\n\")\n",
        "\n",
        "print(f\"Arquivo train.txt criado em: {train_txt_path}\")\n"
      ],
      "metadata": {
        "id": "EieyWiK0UaGw"
      },
      "execution_count": null,
      "outputs": []
    },
    {
      "cell_type": "code",
      "source": [
        "%cd /content/darknet/data/\n",
        "!ls"
      ],
      "metadata": {
        "id": "QVcOuoMeH_mP"
      },
      "execution_count": null,
      "outputs": []
    },
    {
      "cell_type": "markdown",
      "source": [
        "Realizando o treinamento:"
      ],
      "metadata": {
        "id": "IUL125LkGddC"
      }
    },
    {
      "cell_type": "code",
      "metadata": {
        "id": "13fRzkiQiPhW"
      },
      "source": [
        "%cd /content/darknet/\n",
        "!./darknet detector train data/coco.data cfg/yolov3.cfg yolov3.weights -dont_show"
      ],
      "execution_count": null,
      "outputs": []
    },
    {
      "cell_type": "markdown",
      "metadata": {
        "id": "0oWYkXA0LtCQ"
      },
      "source": [
        "## Testando o modelo treinado"
      ]
    },
    {
      "cell_type": "markdown",
      "source": [
        "Imagem de teste obtida de: https://oeco.org.br/noticias/26672-queremos-cidades-para-pessoas-e-cachorros/"
      ],
      "metadata": {
        "id": "GjzcciTQrorE"
      }
    },
    {
      "cell_type": "code",
      "metadata": {
        "id": "josdFFdVMyj3"
      },
      "source": [
        "!./darknet detector test data/coco.data cfg/yolov3.cfg backup/yolov3_final.weights /content/teste.jpg\n",
        "imShow('predictions.jpg')"
      ],
      "execution_count": null,
      "outputs": []
    }
  ]
}